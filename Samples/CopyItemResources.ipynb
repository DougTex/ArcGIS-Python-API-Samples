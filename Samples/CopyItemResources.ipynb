{
 "cells": [
  {
   "cell_type": "code",
   "execution_count": 2,
   "metadata": {},
   "outputs": [],
   "source": [
    "source_portal = 'https://www.arcgis.com'\n",
    "source_user = ''\n",
    "source_pw = ''\n",
    "source_itemid = ''\n",
    "\n",
    "dest_portal = 'https://portal.esri.com/portal'\n",
    "dest_user = ''\n",
    "dest_pw = ''\n",
    "dest_itemid = ''\n",
    "\n",
    "from arcgis import GIS\n",
    "import arcgis\n",
    "gis_src = GIS(source_portal, source_user, source_pw)\n",
    "gis_dest = GIS(dest_portal, dest_user, dest_pw)"
   ]
  },
  {
   "cell_type": "code",
   "execution_count": 3,
   "metadata": {
    "collapsed": true
   },
   "outputs": [],
   "source": [
    "source_item = arcgis.gis.Item(gis_src, source_itemid)\n",
    "dest_item = arcgis.gis.Item(gis_dest, dest_itemid)\n",
    "source_item_resources = [r['resource'] for r in source_item.resources.list()]\n",
    "dest_item_resources = [r['resource'] for r in dest_item.resources.list()]"
   ]
  },
  {
   "cell_type": "code",
   "execution_count": 6,
   "metadata": {},
   "outputs": [
     ]
    }
   ],
   "source": [
    "for r in source_item_resources:\n",
    "    if r in dest_item_resources:\n",
    "        print(\"File Already exists in destination\")\n",
    "        continue\n",
    "    else:\n",
    "        print(\"Attempting to get file: {}\".format(r))\n",
    "        try:\n",
    "            tempfile = source_item.resources.get(r)\n",
    "            result = dest_item.resources.add(tempfile)\n",
    "            if result['success'] == True:\n",
    "                print(\"Successfully copied item {} to destination itemid {}\".format(r,dest_itemid))\n",
    "        except:\n",
    "            print(\"failed to get file: {}, continuing....\".format(r))"
   ]
  },
  {
   "cell_type": "code",
   "execution_count": null,
   "metadata": {
    "collapsed": true
   },
   "outputs": [],
   "source": []
  }
 ],
 "metadata": {
  "kernelspec": {
   "display_name": "Python 3",
   "language": "python",
   "name": "python3"
  },
  "language_info": {
   "codemirror_mode": {
    "name": "ipython",
    "version": 3
   },
   "file_extension": ".py",
   "mimetype": "text/x-python",
   "name": "python",
   "nbconvert_exporter": "python",
   "pygments_lexer": "ipython3",
   "version": "3.6.2"
  }
 },
 "nbformat": 4,
 "nbformat_minor": 2
}
