{
 "cells": [
  {
   "cell_type": "markdown",
   "metadata": {},
   "source": [
    "** Set a datestamp and log into the GIS **"
   ]
  },
  {
   "cell_type": "code",
   "execution_count": 7,
   "metadata": {},
   "outputs": [
    {
     "name": "stdout",
     "output_type": "stream",
     "text": [
      "Enter password: ········\n"
     ]
    }
   ],
   "source": [
    "import arcgis, datetime, os\n",
    "d = datetime.datetime.strftime(datetime.datetime.now(), \"%Y%m%d\")\n",
    "\n",
    "username = \"<username>\"\n",
    "GIS = arcgis.gis.GIS(\"https://arcgis.com\", username=username)"
   ]
  },
  {
   "cell_type": "markdown",
   "metadata": {},
   "source": [
    "**Identify the parameters **\n",
    "- [ ] list of items\n",
    "- [ ] folder to move the exported datasets to in AGO (if desired, otherwise set to None\n",
    "- [ ] export folder for outputs\n",
    "- [ ] export format requested\n",
    "- [ ] whether or not to delete the exported items from online (delete the zipfile) once downloaded"
   ]
  },
  {
   "cell_type": "code",
   "execution_count": 15,
   "metadata": {},
   "outputs": [],
   "source": [
    "item_ids = [\n",
    "    \"3b1b0fb59b864c2b9884608bb8fdcec9\"\n",
    "            ]\n",
    "\n",
    "export_AGO_folder = \"export_folder\"\n",
    "export_local_folder = r\"c:\\temp\\exports\"\n",
    "export_format = \"File Geodatabase\" #options Shapefile, CSV, File Geodatabase, \n",
    "                                   #Feature Collection, GEoJSON, Scene Package, KML\n",
    "delete_tmp_files_after_export = True"
   ]
  },
  {
   "cell_type": "markdown",
   "metadata": {},
   "source": [
    "**Process each item individually and report on progress**"
   ]
  },
  {
   "cell_type": "code",
   "execution_count": 19,
   "metadata": {},
   "outputs": [
    {
     "name": "stdout",
     "output_type": "stream",
     "text": [
      "------------------\n",
      "Processing item: 3b1b0fb59b864c2b9884608bb8fdcec9\n",
      "Exported: <Item title:\"20182002_export_ACLEDacled\" type:File Geodatabase owner:slibby_dbsne>\n",
      "saved to: c:\\temp\\exports\\20182002_export_ACLEDacled.zip\n",
      "Deleted result\n"
     ]
    }
   ],
   "source": [
    "for item in item_ids:\n",
    "    print(\"------------------\\nProcessing item: {}\".format(item))\n",
    "    item_object = arcgis.gis.Item(GIS, item)\n",
    "    if item_object.type != \"Feature Service\":\n",
    "        print(\"Item {} is not a feature service, skipping\".format(item))\n",
    "        continue\n",
    "    export_name = d + \"_export_\" + item_object.title\n",
    "    result_item = item_object.export(export_name, export_format, wait=True)\n",
    "    print(\"Exported: {}\".format(result_item))\n",
    "    if export_AGO_folder:\n",
    "        result_item.move(export_AGO_folder)\n",
    "    download_result = result_item.download(export_folder)\n",
    "    print(\"saved to: {}\".format(download_result))\n",
    "    if delete_tmp_files_after_export:\n",
    "        result_item.delete()\n",
    "        print(\"Deleted result\")"
   ]
  }
 ],
 "metadata": {
  "kernelspec": {
   "display_name": "Python 3",
   "language": "python",
   "name": "python3"
  },
  "language_info": {
   "codemirror_mode": {
    "name": "ipython",
    "version": 3
   },
   "file_extension": ".py",
   "mimetype": "text/x-python",
   "name": "python",
   "nbconvert_exporter": "python",
   "pygments_lexer": "ipython3",
   "version": "3.6.2"
  }
 },
 "nbformat": 4,
 "nbformat_minor": 2
}
