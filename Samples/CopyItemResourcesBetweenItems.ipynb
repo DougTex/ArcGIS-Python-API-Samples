{
 "cells": [
  {
   "cell_type": "code",
   "execution_count": null,
   "metadata": {
    "collapsed": true
   },
   "outputs": [],
   "source": [
    "from arcgis import GIS\n",
    "import arcgis"
   ]
  },
  {
   "cell_type": "code",
   "execution_count": null,
   "metadata": {
    "collapsed": true
   },
   "outputs": [],
   "source": [
    "source_portal = ''\n",
    "source_user = ''\n",
    "source_pw = ''\n",
    "source_itemid = ''\n",
    "\n",
    "dest_portal = ''\n",
    "dest_user = ''\n",
    "dest_pw = ''\n",
    "dest_itemid = ''\n"
   ]
  },
  {
   "cell_type": "code",
   "execution_count": null,
   "metadata": {
    "collapsed": true
   },
   "outputs": [],
   "source": [
    "gis_src = GIS(source_portal, source_user, source_pw)\n",
    "gis_dest = GIS(dest_portal, dest_user, dest_pw)\n",
    "\n",
    "source_item = arcgis.gis.Item(gis_src, source_itemid)\n",
    "dest_item = arcgis.gis.Item(gis_dest, dest_itemid)\n",
    "source_item_resources = [r['resource'] for r in source_item.resources.list()]\n",
    "dest_item_resources = [r['resource'] for r in dest_item.resources.list()]"
   ]
  },
  {
   "cell_type": "markdown",
   "metadata": {},
   "source": [
    "**Copy Item Resources from Source to Destination**"
   ]
  },
  {
   "cell_type": "code",
   "execution_count": null,
   "metadata": {
    "collapsed": true
   },
   "outputs": [],
   "source": [
    "for r in [s for s in source_item_resources if \"_thumb\" not in s]:\n",
    "    if r in dest_item_resources:\n",
    "        print(\"File {} exists in destination\".format(r))\n",
    "        continue\n",
    "    else:\n",
    "        try:\n",
    "            tempfile = source_item.resources.get(r)\n",
    "            result = dest_item.resources.add(tempfile)\n",
    "            if result['success'] == True:\n",
    "                print(\"Successfully copied item {} to destination itemid {}\".format(r,dest_itemid))\n",
    "        except:\n",
    "            print(\"Error uploading item: {}\".format(r))"
   ]
  },
  {
   "cell_type": "markdown",
   "metadata": {},
   "source": [
    "**Save Item Resources to Folder**"
   ]
  },
  {
   "cell_type": "code",
   "execution_count": null,
   "metadata": {
    "collapsed": true
   },
   "outputs": [],
   "source": [
    "output_folder = r\"c:\\tmp\\images\n",
    "for r in [s for s in source_item_resources if \"_thumb\" not in s]:\n",
    "    try:\n",
    "        result = source_item.resources.get(r, out_folder=output_folder)\n",
    "        print(result)\n",
    "    except:\n",
    "        print(\"########issue downloading: {}\".format(r))"
   ]
  }
 ],
 "metadata": {
  "kernelspec": {
   "display_name": "Python 3",
   "language": "python",
   "name": "python3"
  },
  "language_info": {
   "codemirror_mode": {
    "name": "ipython",
    "version": 3
   },
   "file_extension": ".py",
   "mimetype": "text/x-python",
   "name": "python",
   "nbconvert_exporter": "python",
   "pygments_lexer": "ipython3",
   "version": "3.5.3"
  }
 },
 "nbformat": 4,
 "nbformat_minor": 2
}
