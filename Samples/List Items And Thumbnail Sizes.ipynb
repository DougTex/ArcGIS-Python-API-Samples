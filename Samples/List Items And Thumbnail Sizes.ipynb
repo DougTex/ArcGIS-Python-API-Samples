{
 "cells": [
  {
   "cell_type": "markdown",
   "metadata": {},
   "source": [
    "## List Items and Thumnail Sizes\n",
    "This script allows a user to login to a portal and find all items and their corresponding thumbnail size\n",
    "\n",
    "#### First, let's import the ArcGIS Python API & Other Required Python Modules"
   ]
  },
  {
   "cell_type": "code",
   "execution_count": null,
   "metadata": {},
   "outputs": [],
   "source": [
    "from arcgis.gis import GIS\n",
    "import getpass\n",
    "import matplotlib.pyplot"
   ]
  },
  {
   "cell_type": "markdown",
   "metadata": {},
   "source": [
    "#### Now, let's define some input parameters\n",
    "A box will appear allowing you to enter your password. When running interactively, you will be prompted to enter a password. Hit the Enter key to continue."
   ]
  },
  {
   "cell_type": "code",
   "execution_count": null,
   "metadata": {},
   "outputs": [],
   "source": [
    "# Enter the URL to your ArcGIS Online Organization or Portal for ArcGIS\n",
    "portalURL = 'https://myorg.maps.arcgis.com'\n",
    "# Enter the username & password for an Administrator in your Organization\n",
    "username = 'username'\n",
    "password = getpass.getpass()"
   ]
  },
  {
   "cell_type": "markdown",
   "metadata": {},
   "source": [
    "#### Now, let's define out GIS object - a connection to the portal"
   ]
  },
  {
   "cell_type": "code",
   "execution_count": null,
   "metadata": {},
   "outputs": [],
   "source": [
    "gis = GIS(portalURL, username, password)\n",
    "token = gis._con.token"
   ]
  },
  {
   "cell_type": "markdown",
   "metadata": {},
   "source": [
    "#### Next, let's find out how many Web Maps are in our Organization\n",
    "*Note*: if your Org has more than 1000 items, adjust the 'max_items' parameter below"
   ]
  },
  {
   "cell_type": "code",
   "execution_count": null,
   "metadata": {},
   "outputs": [],
   "source": [
    "items = gis.content.search('owner:{}'.format(username),max_items=1000)\n",
    "print('Found {} Total Items'.format(len(items)))"
   ]
  },
  {
   "cell_type": "code",
   "execution_count": null,
   "metadata": {},
   "outputs": [],
   "source": [
    "for item in items:\n",
    "    try:\n",
    "        thumbURL = '{}?token={}'.format(item.get_thumbnail_link(),token)\n",
    "        height, width, channels = matplotlib.pyplot.imread(thumbURL).shape\n",
    "        print(item.id,height,width)\n",
    "        #print(thumbURL)\n",
    "    except:\n",
    "        print(item.id, 'Unknown Dimensions')"
   ]
  }
 ],
 "metadata": {
  "kernelspec": {
   "display_name": "Python 3",
   "language": "python",
   "name": "python3"
  },
  "language_info": {
   "codemirror_mode": {
    "name": "ipython",
    "version": 3
   },
   "file_extension": ".py",
   "mimetype": "text/x-python",
   "name": "python",
   "nbconvert_exporter": "python",
   "pygments_lexer": "ipython3",
   "version": "3.6.5"
  }
 },
 "nbformat": 4,
 "nbformat_minor": 2
}
