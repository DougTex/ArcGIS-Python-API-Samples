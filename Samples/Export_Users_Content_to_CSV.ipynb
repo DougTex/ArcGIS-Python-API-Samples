{
 "cells": [
  {
   "cell_type": "markdown",
   "metadata": {},
   "source": [
    "## Export ArcGIS Online or Portal for ArcGIS Users to CSV\n",
    "This script allows a user to login to a portal and export a CSV list of all users and their corresponding items within it\n",
    "\n",
    "#### First, let's import the ArcGIS Python API & Other Required Python Modules"
   ]
  },
  {
   "cell_type": "code",
   "execution_count": null,
   "metadata": {
    "collapsed": true
   },
   "outputs": [],
   "source": [
    "from arcgis.gis import GIS\n",
    "from arcgis.gis import RoleManager\n",
    "import getpass\n",
    "import csv\n",
    "import os"
   ]
  },
  {
   "cell_type": "markdown",
   "metadata": {},
   "source": [
    "#### Now, let's define some input parameters\n",
    "A box will appear allowing you to enter your password. When running interactively, you will be prompted to enter a password. Hit the Enter key to continue."
   ]
  },
  {
   "cell_type": "code",
   "execution_count": null,
   "metadata": {
    "collapsed": false
   },
   "outputs": [],
   "source": [
    "# Enter the URL to your ArcGIS Online Organization or Portal for ArcGIS\n",
    "portalURL = 'https://org.maps.arcgis.com'\n",
    "# Enter the username & password for an Administrator in your Organization\n",
    "username = 'jeremy'\n",
    "password = getpass.getpass()\n",
    "outputFile = r'C:\\temp\\output.csv'"
   ]
  },
  {
   "cell_type": "markdown",
   "metadata": {},
   "source": [
    "#### Next, let's find out how many users are in our Organization\n",
    "*Note*: the default user search is for 100 users, we are overriding that to 1000 users below"
   ]
  },
  {
   "cell_type": "code",
   "execution_count": null,
   "metadata": {
    "collapsed": false
   },
   "outputs": [],
   "source": [
    "gis = GIS(portalURL, username, password)\n",
    "allUsers = gis.users.search(max_users=1000)\n",
    "print('Total Portal Users: ' + str(len(allUsers)))"
   ]
  },
  {
   "cell_type": "markdown",
   "metadata": {},
   "source": [
    "#### Time to export the CSV File"
   ]
  },
  {
   "cell_type": "code",
   "execution_count": null,
   "metadata": {
    "collapsed": false
   },
   "outputs": [],
   "source": [
    "with open(outputFile, 'w') as output:\n",
    "    dataWriter = csv.writer(output, delimiter=',', quotechar='\"', quoting=csv.QUOTE_MINIMAL, lineterminator='\\n')\n",
    "    # Write header row.\n",
    "    dataWriter.writerow(['Full Name',\n",
    "                         'Email',\n",
    "                         'Username',\n",
    "                         'Date Created',\n",
    "                         'Role',\n",
    "                         'Item ID'])\n",
    "    \n",
    "    for user in allUsers:\n",
    "        # Get User's Role\n",
    "        if user.role == 'org_admin':\n",
    "            userRole = 'Administrator'\n",
    "        elif user.role == 'org_publisher':\n",
    "            userRole = 'Publisher'\n",
    "        elif user.role == 'org_user':\n",
    "            userRole = 'User'\n",
    "        else:\n",
    "            userRole = RoleManager(gis).get_role(user.role).name\n",
    "        \n",
    "        # Get User's Items\n",
    "        items_by_id = []\n",
    "        print(\"Collecting item ids for {}...\".format(user.username))\n",
    "        user_content = user.items()\n",
    "        # Copy item ids from root folder first\n",
    "        for item in user_content:\n",
    "            items_by_id.append(item.itemid)\n",
    "        # Copy item ids from folders next\n",
    "        folders = user.folders\n",
    "        for folder in folders:\n",
    "            folder_items = user.items(folder=folder['title'])\n",
    "            for item in folder_items:\n",
    "                items_by_id.append(item.itemid)\n",
    "        \n",
    "        if len(items_by_id) > 0:\n",
    "            for i, item_by_id in enumerate(items_by_id): \n",
    "                dataWriter.writerow([user['fullName'],\n",
    "                                     user['email'],\n",
    "                                     user['username'],\n",
    "                                     time.strftime(\"%Y-%m-%d\",time.gmtime(user['created']/1000)),\n",
    "                                     userRole,\n",
    "                                     items_by_id[i]])"
   ]
  }
 ],
 "metadata": {
  "kernelspec": {
   "display_name": "Python 3",
   "language": "python",
   "name": "python3"
  },
  "language_info": {
   "codemirror_mode": {
    "name": "ipython",
    "version": 3
   },
   "file_extension": ".py",
   "mimetype": "text/x-python",
   "name": "python",
   "nbconvert_exporter": "python",
   "pygments_lexer": "ipython3",
   "version": "3.5.3"
  }
 },
 "nbformat": 4,
 "nbformat_minor": 2
}
