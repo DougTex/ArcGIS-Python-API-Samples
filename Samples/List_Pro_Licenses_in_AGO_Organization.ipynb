{
 "cells": [
  {
   "cell_type": "code",
   "execution_count": null,
   "metadata": {},
   "outputs": [],
   "source": [
    "#Import Modules\n",
    "import arcgis\n",
    "\n",
    "#List All Users in the Organization\n",
    "your_username = input(\"Enter your ArcGIS Online Username (case-sensitive!): \")\n",
    "gis = arcgis.gis.GIS(username=your_username)\n",
    "allUsers = gis.users.search()\n",
    "\n",
    "#Create a License Manager Object to use to query the licenses\n",
    "licenseManager = arcgis.gis.admin.AGOLAdminManager(gis)\n",
    "users_with_pro = []\n",
    "for license in licenseManager.license.get(\"ArcGIS Pro\").all():\n",
    "    if \"desktop\" in str(license['entitlements']):\n",
    "        print(\"User \", license['username'], \" is currently licensed for ArcGIS Pro!\")\n",
    "        users_with_pro.append(license['username'])"
   ]
  },
  {
   "cell_type": "code",
   "execution_count": null,
   "metadata": {},
   "outputs": [],
   "source": [
    "#Print a CSV you can paste into a text file and save as .csv\n",
    "print(\"username,email,hasProLicense\")\n",
    "for user in allUsers:\n",
    "    if user.username in users_with_pro:\n",
    "        print(\",\".join([user.username, user.email, \"Yes\"]))\n",
    "    else:\n",
    "        print(\",\".join([user.username, user.email, \"No\"]))"
   ]
  }
 ],
 "metadata": {
  "kernelspec": {
   "display_name": "Python 3",
   "language": "python",
   "name": "python3"
  },
  "language_info": {
   "codemirror_mode": {
    "name": "ipython",
    "version": 3
   },
   "file_extension": ".py",
   "mimetype": "text/x-python",
   "name": "python",
   "nbconvert_exporter": "python",
   "pygments_lexer": "ipython3",
   "version": "3.6.2"
  }
 },
 "nbformat": 4,
 "nbformat_minor": 2
}
