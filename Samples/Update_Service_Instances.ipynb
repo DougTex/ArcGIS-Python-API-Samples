{
 "cells": [
  {
   "cell_type": "markdown",
   "metadata": {},
   "source": [
    "**Set Variables**"
   ]
  },
  {
   "cell_type": "code",
   "execution_count": null,
   "metadata": {
    "collapsed": true
   },
   "outputs": [],
   "source": [
    "serverUrl = \"https://<hostname>/<webadaptor>\"\n",
    "serviceFolderName = \"folder\" #Server Folder (/rest/services/<folder>)\n",
    "instanceNumber = <> # Integer, number of min instances to set, must be <= max Instance Count\n",
    "user = \"<user>\" #Must be your PSA account if using a federated Server\n",
    "pw = \"<password>\""
   ]
  },
  {
   "cell_type": "markdown",
   "metadata": {},
   "source": [
    "Create Server Connection (direct in this case)"
   ]
  },
  {
   "cell_type": "code",
   "execution_count": null,
   "metadata": {},
   "outputs": [],
   "source": [
    "import arcgis.gis.server as Server # Currently requires the latest build of the arcgis module\n",
    "arcgis.__version__ #confirm version, must be 1.2.5 or higher\n",
    "s = Server.Server(serverUrl, username=user, password=pw)"
   ]
  },
  {
   "cell_type": "markdown",
   "metadata": {},
   "source": [
    "Process Services in given folder and set minInstancesPerNode value"
   ]
  },
  {
   "cell_type": "code",
   "execution_count": null,
   "metadata": {},
   "outputs": [],
   "source": [
    "for svc in s.services.list(folder=serviceFolderName):\n",
    "    svc_dict = json.loads(svc._json)\n",
    "    print(\"Updating Service: {}\".format(svc_dict[\"serviceName\"]))\n",
    "    svc_dict['minInstancesPerNode'] = instanceNumber\n",
    "    newJSON = json.dumps(svc_dict)\n",
    "    print(svc.edit(newJSON))\n",
    "    print(\"Successfully updated service: {}\".format(svc_dict['serviceName']))\n",
    "    "
   ]
  },
  {
   "cell_type": "code",
   "execution_count": null,
   "metadata": {
    "collapsed": true
   },
   "outputs": [],
   "source": []
  }
 ],
 "metadata": {
  "kernelspec": {
   "display_name": "Python 3",
   "language": "python",
   "name": "python3"
  },
  "language_info": {
   "codemirror_mode": {
    "name": "ipython",
    "version": 3
   },
   "file_extension": ".py",
   "mimetype": "text/x-python",
   "name": "python",
   "nbconvert_exporter": "python",
   "pygments_lexer": "ipython3",
   "version": "3.5.3"
  }
 },
 "nbformat": 4,
 "nbformat_minor": 2
}
