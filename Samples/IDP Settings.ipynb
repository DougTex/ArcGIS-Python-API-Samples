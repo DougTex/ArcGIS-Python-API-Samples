{
 "cells": [
  {
   "cell_type": "code",
   "execution_count": 1,
   "metadata": {
    "collapsed": true
   },
   "outputs": [],
   "source": [
    "#set variables and connect to Portal\n",
    "portal_url = \"<>\"\n",
    "user = \"<>\"\n",
    "pw = \"<>\"\n",
    "\n",
    "from geosaurus.src import arcgis #currently only available in latest 'arcgis' code\n",
    "GIS = arcgis.GIS(portal_url, user, pw)"
   ]
  },
  {
   "cell_type": "code",
   "execution_count": 5,
   "metadata": {},
   "outputs": [
    {
     "data": {
      "text/plain": [
       "{\n",
       "  \"updateProfileAtSignin\": false,\n",
       "  \"supportsLogoutRequest\": false,\n",
       "  \"entityId\": null,\n",
       "  \"userCreditAssignment\": -1,\n",
       "  \"roleId\": null,\n",
       "  \"level\": null,\n",
       "  \"useSHA256\": false,\n",
       "  \"bindingPostUrl\": \"https://adfshost.esri.com/adfs/ls/idpinitiatedsignon.aspx\",\n",
       "  \"id\": \"C96fDHeteIIx9bSK\",\n",
       "  \"supportSignedRequest\": false,\n",
       "  \"signUpMode\": \"Invitation\",\n",
       "  \"name\": \"set_by_code\",\n",
       "  \"certificate\": \"MIIC6DC...\",\n",
       "  \"encryptionCertificate\": \"MIIC7jCCAd....\",\n",
       "  \"groups\": [],\n",
       "  \"bindingUrl\": \"https://adfshost.esri.com/adfs/ls/idpinitiatedsignon.aspx\",\n",
       "  \"encryptionSupported\": false,\n",
       "  \"logoutUrl\": \"https://adfshost.esri.com/adfs/ls/\"\n",
       "}"
      ]
     },
     "execution_count": 5,
     "metadata": {},
     "output_type": "execute_result"
    }
   ],
   "source": [
    "#Print current idp configuration\n",
    "GIS.admin.idp.configuration"
   ]
  },
  {
   "cell_type": "code",
   "execution_count": 13,
   "metadata": {},
   "outputs": [
    {
     "data": {
      "text/plain": [
       "{'idpId': 'YVGHuJzThFoQLcDY', 'success': True}"
      ]
     },
     "execution_count": 13,
     "metadata": {},
     "output_type": "execute_result"
    }
   ],
   "source": [
    "#unregister current IdPp\n",
    "GIS.admin.idp._unregister()\n",
    "\n",
    "#re-add IdP\n",
    "GIS.admin.idp._add(name=\"testname\",idpMetadataUrl=\"https://adfshost.esri.com/federationmetadata/2007-06/federationmetadata.xml\")"
   ]
  },
  {
   "cell_type": "code",
   "execution_count": 25,
   "metadata": {},
   "outputs": [
    {
     "data": {
      "text/plain": [
       "True"
      ]
     },
     "execution_count": 25,
     "metadata": {},
     "output_type": "execute_result"
    }
   ],
   "source": [
    "#Update Name or Signup Mode configuration\n",
    "\n",
    "GIS.admin.idp.configuration\n",
    "GIS.admin.idp._update(name=\"test3\")\n",
    "\n",
    "GIS.admin.idp.configuration\n",
    "GIS.admin.idp._update(signUpMode=\"Automatic\")"
   ]
  }
 ],
 "metadata": {
  "kernelspec": {
   "display_name": "Python 3",
   "language": "python",
   "name": "python3"
  },
  "language_info": {
   "codemirror_mode": {
    "name": "ipython",
    "version": 3
   },
   "file_extension": ".py",
   "mimetype": "text/x-python",
   "name": "python",
   "nbconvert_exporter": "python",
   "pygments_lexer": "ipython3",
   "version": "3.5.3"
  }
 },
 "nbformat": 4,
 "nbformat_minor": 2
}
