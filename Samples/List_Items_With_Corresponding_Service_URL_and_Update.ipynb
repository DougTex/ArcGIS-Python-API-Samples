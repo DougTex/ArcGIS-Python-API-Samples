{
 "cells": [
  {
   "cell_type": "markdown",
   "metadata": {},
   "source": [
    "## List Items with Corresponding Service URL and Update\n",
    "This script allows a user to login to a portal and find/replace URL patterns that exist in Web Maps.  This is useful for GIS Services that have moved to a different DNS or Service Name. \n",
    "\n",
    "#### First, let's import the ArcGIS Python API & Other Required Python Modules"
   ]
  },
  {
   "cell_type": "code",
   "execution_count": null,
   "metadata": {
    "collapsed": true
   },
   "outputs": [],
   "source": [
    "from arcgis.gis import GIS\n",
    "import getpass"
   ]
  },
  {
   "cell_type": "markdown",
   "metadata": {},
   "source": [
    "#### Now, let's define some input parameters\n",
    "A box will appear allowing you to enter your password. When running interactively, you will be prompted to enter a password. Hit the Enter key to continue."
   ]
  },
  {
   "cell_type": "code",
   "execution_count": null,
   "metadata": {},
   "outputs": [],
   "source": [
    "# Enter the URL to your ArcGIS Online Organization or Portal for ArcGIS\n",
    "portalURL = 'https://org.maps.arcgis.com'\n",
    "# Enter the username & password for an Administrator in your Organization\n",
    "username = 'username'\n",
    "password = getpass.getpass()"
   ]
  },
  {
   "cell_type": "code",
   "execution_count": null,
   "metadata": {
    "collapsed": true
   },
   "outputs": [],
   "source": [
    "serviceURL = 'oldURL.domain.com'\n",
    "newServiceURL = 'newURL.domain.com'"
   ]
  },
  {
   "cell_type": "markdown",
   "metadata": {},
   "source": [
    "#### Now, let's define out GIS object - a connection to the portal"
   ]
  },
  {
   "cell_type": "code",
   "execution_count": null,
   "metadata": {
    "collapsed": true
   },
   "outputs": [],
   "source": [
    "gis = GIS(portalURL, username, password)"
   ]
  },
  {
   "cell_type": "markdown",
   "metadata": {},
   "source": [
    "#### Next, let's find out how many Web Maps are in our Organization\n",
    "*Note*: if your Org has more than 1000 items, adjust the 'max_items' parameter below"
   ]
  },
  {
   "cell_type": "code",
   "execution_count": null,
   "metadata": {},
   "outputs": [],
   "source": [
    "webMaps = gis.content.search('*',item_type='Web Map',max_items=1000)\n",
    "print('Found {} Total WebMap Items'.format(len(webMaps)))"
   ]
  },
  {
   "cell_type": "code",
   "execution_count": null,
   "metadata": {},
   "outputs": [],
   "source": [
    "for i, webMap in enumerate(webMaps):\n",
    "    #If you want to see progress, uncomment the following line\n",
    "    #print('Getting Data for: {}'.format(i)) \n",
    "    jsonData = str(webMap.get_data())\n",
    "    if serviceURL in jsonData:\n",
    "        print('Updating WebMap: {}'.format(webMap.id))\n",
    "        webMap.update(data=jsonData.replace(serviceURL,newServiceURL))"
   ]
  }
 ],
 "metadata": {
  "kernelspec": {
   "display_name": "Python 3",
   "language": "python",
   "name": "python3"
  },
  "language_info": {
   "codemirror_mode": {
    "name": "ipython",
    "version": 3
   },
   "file_extension": ".py",
   "mimetype": "text/x-python",
   "name": "python",
   "nbconvert_exporter": "python",
   "pygments_lexer": "ipython3",
   "version": "3.5.3"
  }
 },
 "nbformat": 4,
 "nbformat_minor": 2
}
