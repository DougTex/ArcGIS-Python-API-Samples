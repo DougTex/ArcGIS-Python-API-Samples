{
 "cells": [
  {
   "cell_type": "markdown",
   "metadata": {},
   "source": [
    "## Migrate Enterprise Users\n",
    "This script allows a user to login to change the UPN Name of an Enteprise Account\n",
    "\n",
    "#### First, let's import the ArcGIS Python API & Other Required Python Modules"
   ]
  },
  {
   "cell_type": "code",
   "execution_count": null,
   "metadata": {
    "collapsed": true
   },
   "outputs": [],
   "source": [
    "from arcgis.gis import *"
   ]
  },
  {
   "cell_type": "markdown",
   "metadata": {},
   "source": [
    "#### Now, let's define some input parameters\n",
    "A box will appear allowing you to enter your password. When running interactively, you will be prompted to enter a password. Hit the Enter key to continue."
   ]
  },
  {
   "cell_type": "code",
   "execution_count": null,
   "metadata": {
    "collapsed": false
   },
   "outputs": [],
   "source": [
    "# Enter the URL to your ArcGIS Online Organization or Portal for ArcGIS\n",
    "portalURL = 'https://myorg.maps.arcgis.com'\n",
    "OrgBaseURL = portalURL.split('/')[-1].split('.')[0]\n",
    "# Enter the username & password for an Administrator in your Organization\n",
    "username = ''\n",
    "password = ''"
   ]
  },
  {
   "cell_type": "markdown",
   "metadata": {},
   "source": [
    "#### Define the Old UPN and New UPN for the user in your Org\n",
    "\n",
    "*Note*: THIS MUST MATCH THE SAML NAMEID RESPONSE"
   ]
  },
  {
   "cell_type": "code",
   "execution_count": null,
   "metadata": {
    "collapsed": false
   },
   "outputs": [],
   "source": [
    "orig_UPN = \"123456@company.com\"\n",
    "new_UPN = \"John.Doe@company.com\"\n",
    "# Below we will automatically get the proper User ID structure\n",
    "orig_userid = '{}_{}'.format(orig_UPN,OrgBaseURL)\n",
    "new_userid = '{}_{}'.format(new_UPN,OrgBaseURL)"
   ]
  },
  {
   "cell_type": "markdown",
   "metadata": {},
   "source": [
    "#### Next, let's find out how many users are in our Organization\n",
    "*Note*: the default user search is for 100 users, we are overriding that to 1000 users below"
   ]
  },
  {
   "cell_type": "code",
   "execution_count": null,
   "metadata": {
    "collapsed": false
   },
   "outputs": [],
   "source": [
    "gis = GIS(portalURL, username, password)\n",
    "allUsers = gis.users.search(max_users=1000)\n",
    "print('Total Portal Users: ' + str(len(allUsers)))"
   ]
  },
  {
   "cell_type": "markdown",
   "metadata": {
    "collapsed": true
   },
   "source": [
    "#### Get the details for the Original User"
   ]
  },
  {
   "cell_type": "code",
   "execution_count": null,
   "metadata": {
    "collapsed": false
   },
   "outputs": [],
   "source": [
    "olduser = gis.users.get(orig_userid)\n",
    "olduser"
   ]
  },
  {
   "cell_type": "markdown",
   "metadata": {},
   "source": [
    "#### Remove ArcGIS Pro Entitlements"
   ]
  },
  {
   "cell_type": "code",
   "execution_count": null,
   "metadata": {
    "collapsed": false
   },
   "outputs": [],
   "source": [
    "licenses = gis.admin.license\n",
    "if licenses.get(name=\"arcgis pro\").user_entitlement(username=orig_userid):\n",
    "    oldUserEntitlements = licenses.get(name=\"arcgis pro\").user_entitlement(username=orig_userid)['entitlements']\n",
    "    licenses.get(name=\"arcgis pro\").revoke(username=orig_userid, entitlements=oldUserEntitlements, supress_email=True)\n",
    "    print('Removed Entitlements')\n",
    "else:\n",
    "    print('No entitlements to Remove')\n",
    "if bool(licenses.get(name=\"arcgis pro\").user_entitlement(username=orig_userid)) == False:\n",
    "    print('User has no entitlements')"
   ]
  },
  {
   "cell_type": "markdown",
   "metadata": {},
   "source": [
    "#### Create a New User Based on the Old User's Info"
   ]
  },
  {
   "cell_type": "code",
   "execution_count": null,
   "metadata": {
    "collapsed": false
   },
   "outputs": [],
   "source": [
    "if olduser.role == 'org_admin':\n",
    "    # Based on the old user's info, create the New User\n",
    "    newuser = gis.users.create(username = new_userid,\n",
    "                                password = None,\n",
    "                                firstname = olduser.firstName,\n",
    "                                lastname = olduser.lastName,\n",
    "                                email = olduser.email,\n",
    "                                description = olduser.description,\n",
    "                                role = 'org_user',\n",
    "                                provider = 'enterprise',\n",
    "                                idp_username=new_UPN)\n",
    "else:\n",
    "    # Based on the old user's info, create the New User\n",
    "    newuser = gis.users.create(username = new_userid,\n",
    "                                password = None,\n",
    "                                firstname = olduser.firstName,\n",
    "                                lastname = olduser.lastName,\n",
    "                                email = olduser.email,\n",
    "                                description = olduser.description,\n",
    "                                role = olduser.role,\n",
    "                                provider = 'enterprise',\n",
    "                                idp_username=new_UPN)\n",
    "print('Created User: {}'.format(new_userid))"
   ]
  },
  {
   "cell_type": "markdown",
   "metadata": {},
   "source": [
    "#### Set the language of the new user to match the old user"
   ]
  },
  {
   "cell_type": "code",
   "execution_count": null,
   "metadata": {
    "collapsed": false
   },
   "outputs": [],
   "source": [
    "newuser.update(culture=olduser.culture)\n",
    "print('Updated language to: {}'.format(newuser.culture))"
   ]
  },
  {
   "cell_type": "markdown",
   "metadata": {},
   "source": [
    "#### Get the details for the New User"
   ]
  },
  {
   "cell_type": "code",
   "execution_count": null,
   "metadata": {
    "collapsed": false
   },
   "outputs": [],
   "source": [
    "newuser = gis.users.get(new_userid)\n",
    "newuser"
   ]
  },
  {
   "cell_type": "markdown",
   "metadata": {},
   "source": [
    "#### Reassign Groups"
   ]
  },
  {
   "cell_type": "code",
   "execution_count": null,
   "metadata": {
    "collapsed": false
   },
   "outputs": [],
   "source": [
    "usergroups = olduser['groups']\n",
    "for group in usergroups:\n",
    "    grp = gis.groups.get(group['id'])\n",
    "    if (grp.owner == orig_userid):\n",
    "        grp.reassign_to(new_userid)\n",
    "    else:\n",
    "        grp.add_users([new_userid])\n",
    "        grp.remove_users([orig_userid])\n",
    "        \n",
    "print('Reassigned Groups')"
   ]
  },
  {
   "cell_type": "markdown",
   "metadata": {},
   "source": [
    "#### Reassign Content"
   ]
  },
  {
   "cell_type": "code",
   "execution_count": null,
   "metadata": {
    "collapsed": false
   },
   "outputs": [],
   "source": [
    "usercontent = olduser.items()\n",
    "folders = olduser.folders\n",
    "for item in usercontent:\n",
    "    try:\n",
    "        item.reassign_to(new_userid)\n",
    "    except Exception as e:\n",
    "        print(\"Item may have been already assigned to the user.\")\n",
    "\n",
    "for folder in folders:\n",
    "    gis.content.create_folder(folder['title'], new_userid)\n",
    "    folderitems = olduser.items(folder=folder['title'])\n",
    "    for item in folderitems:\n",
    "        item.reassign_to(new_userid, target_folder=folder['title'])\n",
    "\n",
    "print('Reassigned Content')"
   ]
  },
  {
   "cell_type": "markdown",
   "metadata": {
    "collapsed": true
   },
   "source": [
    "#### Disable Old User Account"
   ]
  },
  {
   "cell_type": "code",
   "execution_count": null,
   "metadata": {
    "collapsed": false
   },
   "outputs": [],
   "source": [
    "olduser.disable()\n",
    "print('Disabled Old User')"
   ]
  },
  {
   "cell_type": "markdown",
   "metadata": {},
   "source": [
    "#### Assign Entitlements"
   ]
  },
  {
   "cell_type": "code",
   "execution_count": null,
   "metadata": {
    "collapsed": false
   },
   "outputs": [],
   "source": [
    "if oldUserEntitlements:\n",
    "    licenses.get(name=\"arcgis pro\").assign(username=new_userid, entitlements=oldUserEntitlements, supress_email=True)\n",
    "    print('Assigned entitlements')\n",
    "else:\n",
    "    print('User does not have entitlements')\n",
    "if bool(licenses.get(name=\"arcgis pro\").user_entitlement(username=new_userid)) == True:\n",
    "    print('User has entitlements')"
   ]
  }
 ],
 "metadata": {
  "kernelspec": {
   "display_name": "Python 3",
   "language": "python",
   "name": "python3"
  },
  "language_info": {
   "codemirror_mode": {
    "name": "ipython",
    "version": 3
   },
   "file_extension": ".py",
   "mimetype": "text/x-python",
   "name": "python",
   "nbconvert_exporter": "python",
   "pygments_lexer": "ipython3",
   "version": "3.5.3"
  }
 },
 "nbformat": 4,
 "nbformat_minor": 2
}
